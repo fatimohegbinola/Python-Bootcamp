{
 "cells": [
  {
   "cell_type": "markdown",
   "id": "ccb49ba1-b9a2-4f8b-a622-6feb309cbb27",
   "metadata": {},
   "source": [
    "#Working with integer data type"
   ]
  },
  {
   "cell_type": "code",
   "execution_count": 40,
   "id": "f019ba23-a952-469a-b0eb-3ccdcce76468",
   "metadata": {},
   "outputs": [],
   "source": [
    "x = 10 #assigning 10 to x"
   ]
  },
  {
   "cell_type": "code",
   "execution_count": 42,
   "id": "63810883-6e7a-4354-8a62-3932cc0e37ef",
   "metadata": {},
   "outputs": [
    {
     "data": {
      "text/plain": [
       "10"
      ]
     },
     "execution_count": 42,
     "metadata": {},
     "output_type": "execute_result"
    }
   ],
   "source": [
    "x"
   ]
  },
  {
   "cell_type": "code",
   "execution_count": 38,
   "id": "5a7df91c-b38a-47d7-9a24-b623bf295186",
   "metadata": {},
   "outputs": [
    {
     "data": {
      "text/plain": [
       "4"
      ]
     },
     "execution_count": 38,
     "metadata": {},
     "output_type": "execute_result"
    }
   ],
   "source": [
    "2+2 "
   ]
  },
  {
   "cell_type": "code",
   "execution_count": 1,
   "id": "5f422115-62dc-4fb7-b673-a0699bddf594",
   "metadata": {},
   "outputs": [
    {
     "name": "stdout",
     "output_type": "stream",
     "text": [
      "FATIMA\n"
     ]
    }
   ],
   "source": [
    "print('FATIMA')\n"
   ]
  },
  {
   "cell_type": "code",
   "execution_count": null,
   "id": "32a27f56-97e2-4b15-a62a-9732332889c2",
   "metadata": {},
   "outputs": [],
   "source": [
    "#BASIC DATA TYPES"
   ]
  },
  {
   "cell_type": "code",
   "execution_count": 12,
   "id": "c8c9d653-00fc-4fd2-8f29-4a346c6d3094",
   "metadata": {},
   "outputs": [
    {
     "data": {
      "text/plain": [
       "int"
      ]
     },
     "execution_count": 12,
     "metadata": {},
     "output_type": "execute_result"
    }
   ],
   "source": [
    "type(88)\n"
   ]
  },
  {
   "cell_type": "markdown",
   "id": "19dc9980-06ac-4bd9-952c-276f2839e090",
   "metadata": {},
   "source": [
    "#Working with string data type"
   ]
  },
  {
   "cell_type": "code",
   "execution_count": 20,
   "id": "c2e3615b-fe03-4603-812c-b0fca8ab8af7",
   "metadata": {},
   "outputs": [],
   "source": [
    "firstname = 'fatimoh'\n",
    "lastname = 'egbinola'"
   ]
  },
  {
   "cell_type": "code",
   "execution_count": 22,
   "id": "2183cfb5-bc39-4d8f-a276-4214e9311658",
   "metadata": {},
   "outputs": [],
   "source": [
    "my_name = firstname +' ' + lastname"
   ]
  },
  {
   "cell_type": "code",
   "execution_count": 18,
   "id": "641bf0f6-0adb-4088-94a6-f24e6bc0dbdb",
   "metadata": {},
   "outputs": [
    {
     "data": {
      "text/plain": [
       "str"
      ]
     },
     "execution_count": 18,
     "metadata": {},
     "output_type": "execute_result"
    }
   ],
   "source": [
    "type(my_name)"
   ]
  },
  {
   "cell_type": "code",
   "execution_count": 24,
   "id": "f0c7c3c6-34a1-424e-a5d5-17c9d1d8711a",
   "metadata": {},
   "outputs": [
    {
     "data": {
      "text/plain": [
       "'fatimoh egbinola'"
      ]
     },
     "execution_count": 24,
     "metadata": {},
     "output_type": "execute_result"
    }
   ],
   "source": [
    "my_name"
   ]
  },
  {
   "cell_type": "code",
   "execution_count": 26,
   "id": "f1507d9e-6a70-47b8-a300-dba055248bfc",
   "metadata": {},
   "outputs": [
    {
     "data": {
      "text/plain": [
       "'Fatimoh Egbinola'"
      ]
     },
     "execution_count": 26,
     "metadata": {},
     "output_type": "execute_result"
    }
   ],
   "source": [
    "my_name.title() "
   ]
  },
  {
   "cell_type": "code",
   "execution_count": 30,
   "id": "2d321e1c-275d-4f9e-a0c5-2a25305e1483",
   "metadata": {},
   "outputs": [
    {
     "data": {
      "text/plain": [
       "'FATIMOH EGBINOLA'"
      ]
     },
     "execution_count": 30,
     "metadata": {},
     "output_type": "execute_result"
    }
   ],
   "source": [
    "my_name.upper()  "
   ]
  },
  {
   "cell_type": "markdown",
   "id": "cb333a6b-f388-49ca-b8de-00771da4ad17",
   "metadata": {},
   "source": [
    "Comparative Operators in python\n",
    "majorly used to compare two or more values\n",
    "==\n",
    "!=\n",
    "&    \n",
    "    "
   ]
  },
  {
   "cell_type": "code",
   "execution_count": null,
   "id": "27a481b0-e2ea-4883-a26b-87ac7efe9b44",
   "metadata": {},
   "outputs": [],
   "source": [
    "#if statement in pyton\n",
    "creating condition if python\n",
    "Syntax:\n",
    "We write if, the statement, then colon\n",
    "statement is been constructed by comparative operators\n",
    "if 'statement':\n",
    "   print()\n"
   ]
  },
  {
   "cell_type": "code",
   "execution_count": 54,
   "id": "4220685f-cc7b-4e27-967a-925ce6a67d35",
   "metadata": {},
   "outputs": [
    {
     "data": {
      "text/plain": [
       "True"
      ]
     },
     "execution_count": 54,
     "metadata": {},
     "output_type": "execute_result"
    }
   ],
   "source": [
    "1 != 2 #! stands for not, checking if one is not equas to two"
   ]
  },
  {
   "cell_type": "code",
   "execution_count": 52,
   "id": "8d800032-1e6a-4094-95f9-f158c3396e6f",
   "metadata": {},
   "outputs": [
    {
     "data": {
      "text/plain": [
       "False"
      ]
     },
     "execution_count": 52,
     "metadata": {},
     "output_type": "execute_result"
    }
   ],
   "source": [
    "1 == 2 #checking if one is equals to two"
   ]
  },
  {
   "cell_type": "code",
   "execution_count": 56,
   "id": "bda3990a-850d-48b3-9386-674e5d388c1f",
   "metadata": {},
   "outputs": [
    {
     "data": {
      "text/plain": [
       "False"
      ]
     },
     "execution_count": 56,
     "metadata": {},
     "output_type": "execute_result"
    }
   ],
   "source": [
    "1 > 2 "
   ]
  },
  {
   "cell_type": "code",
   "execution_count": 46,
   "id": "f97f717c-6b40-4943-ae2d-b1687fe81e77",
   "metadata": {},
   "outputs": [
    {
     "name": "stdout",
     "output_type": "stream",
     "text": [
      "Yes\n"
     ]
    }
   ],
   "source": [
    "x = 10\n",
    "if x == 10:\n",
    "    print('Yes')"
   ]
  },
  {
   "cell_type": "code",
   "execution_count": 50,
   "id": "54815440-81b2-482f-b882-d76f5330b4cf",
   "metadata": {},
   "outputs": [],
   "source": [
    "x = 6\n",
    "if x == 10:\n",
    "    print('Yes')"
   ]
  },
  {
   "cell_type": "code",
   "execution_count": null,
   "id": "aecb3359-57a0-407c-bf0b-c684c9392d73",
   "metadata": {},
   "outputs": [],
   "source": [
    "x = 10 # This is assigning x to value of 10\n",
    "x == 10 #checking if x is equals to 10? True or False"
   ]
  },
  {
   "cell_type": "code",
   "execution_count": 62,
   "id": "d3b5529f-37a1-4870-935d-9776344a17f6",
   "metadata": {},
   "outputs": [],
   "source": [
    "name = 'James'"
   ]
  },
  {
   "cell_type": "code",
   "execution_count": 64,
   "id": "20472be7-72ad-4cfe-86a3-89957852847f",
   "metadata": {},
   "outputs": [
    {
     "name": "stdout",
     "output_type": "stream",
     "text": [
      "Correct\n"
     ]
    }
   ],
   "source": [
    "if name == 'James':\n",
    "    print('Correct')"
   ]
  },
  {
   "cell_type": "markdown",
   "id": "ba4bc767-5271-40fe-9222-2e36bf4b0a07",
   "metadata": {},
   "source": [
    "#Python List Data Type\n",
    "they can be modified after they are created"
   ]
  },
  {
   "cell_type": "code",
   "execution_count": 1,
   "id": "26021808-5df2-41cc-90c5-771b99f5f003",
   "metadata": {},
   "outputs": [],
   "source": [
    "fruits = ['apple', 'banana', 'cherry']\n"
   ]
  },
  {
   "cell_type": "code",
   "execution_count": 3,
   "id": "3c8f1bff-98df-4c96-9fd9-318596c7caa8",
   "metadata": {},
   "outputs": [
    {
     "name": "stdout",
     "output_type": "stream",
     "text": [
      "apple\n"
     ]
    }
   ],
   "source": [
    "print(fruits[0])"
   ]
  },
  {
   "cell_type": "code",
   "execution_count": 5,
   "id": "c15cbf6c-84f8-4232-b13c-251ba4ec51cd",
   "metadata": {},
   "outputs": [
    {
     "name": "stdout",
     "output_type": "stream",
     "text": [
      "cherry\n"
     ]
    }
   ],
   "source": [
    "print(fruits[2])"
   ]
  },
  {
   "cell_type": "markdown",
   "id": "bf4c5988-9324-457c-a9ce-37facfcd389a",
   "metadata": {},
   "source": [
    "#Python Tuple Data Type\n",
    "similar to list but cannot be modified"
   ]
  },
  {
   "cell_type": "code",
   "execution_count": 9,
   "id": "a846bf69-44c9-49a9-aed5-84cf948d0201",
   "metadata": {},
   "outputs": [],
   "source": [
    "dimensions = (1920,1080)"
   ]
  },
  {
   "cell_type": "code",
   "execution_count": 10,
   "id": "279ce70e-18da-44f9-8d15-198b9f99709c",
   "metadata": {},
   "outputs": [
    {
     "name": "stdout",
     "output_type": "stream",
     "text": [
      "1920\n"
     ]
    }
   ],
   "source": [
    "print(dimensions[0])"
   ]
  },
  {
   "cell_type": "code",
   "execution_count": null,
   "id": "868d5d6d-5824-452f-8748-13d18c4a768a",
   "metadata": {},
   "outputs": [],
   "source": []
  }
 ],
 "metadata": {
  "kernelspec": {
   "display_name": "Python 3 (ipykernel)",
   "language": "python",
   "name": "python3"
  },
  "language_info": {
   "codemirror_mode": {
    "name": "ipython",
    "version": 3
   },
   "file_extension": ".py",
   "mimetype": "text/x-python",
   "name": "python",
   "nbconvert_exporter": "python",
   "pygments_lexer": "ipython3",
   "version": "3.12.4"
  }
 },
 "nbformat": 4,
 "nbformat_minor": 5
}
